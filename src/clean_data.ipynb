{
 "cells": [
  {
   "cell_type": "markdown",
   "metadata": {},
   "source": [
    "# Cleans previously massaged data into separate csv files\n",
    "This code uses the original public USGS and GreenStream data which was previously combined and pitch matched in terms of timings apache beam.  During that time the original data was also averaged from hourly reports into daily averages.\n",
    "\n",
    "The data was averaged so that the model is generalized and not overly precise with outliers due to possible sensor inaccuracy. This is accpetable because we trying to virtualize water levels and due to terrain and flows there is no need to be overly precise.  Also this enables smaller dataset which is more suitable for faster model training."
   ]
  },
  {
   "cell_type": "code",
   "execution_count": 32,
   "metadata": {},
   "outputs": [],
   "source": [
    "# leave until I can determine if tensorboard runs in ibm cloud\n",
    "# %load_ext tensorboard.notebook"
   ]
  },
  {
   "cell_type": "code",
   "execution_count": 58,
   "metadata": {},
   "outputs": [],
   "source": [
    "import datetime\n",
    "from pathlib import Path\n",
    "\n",
    "import matplotlib.pyplot as plt\n",
    "import pandas as pd\n",
    "import seaborn as sns\n",
    "import os\n",
    "import os.path"
   ]
  },
  {
   "cell_type": "code",
   "execution_count": 59,
   "metadata": {},
   "outputs": [],
   "source": [
    "CSV_FILE_NAME = \"../data/usgs_gsvb_v2.csv\"\n",
    "os.environ['CSV_FILE_NAME'] = CSV_FILE_NAME"
   ]
  },
  {
   "cell_type": "code",
   "execution_count": 60,
   "metadata": {},
   "outputs": [
    {
     "name": "stdout",
     "output_type": "stream",
     "text": [
      "current directory is : /Users/davis/progs/ccivm/src\n"
     ]
    }
   ],
   "source": [
    "# The current directory will be where this src file is located.\n",
    "# Which is in the src dir of the project\n",
    "dirpath = os.getcwd()\n",
    "print(\"current directory is : \" + dirpath)"
   ]
  },
  {
   "cell_type": "code",
   "execution_count": 61,
   "metadata": {},
   "outputs": [
    {
     "name": "stdout",
     "output_type": "stream",
     "text": [
      "parent directory is : /Users/davis/progs/ccivm\n"
     ]
    }
   ],
   "source": [
    "root_path = os.path.dirname(dirpath)\n",
    "print(\"parent directory is : \" + root_path)"
   ]
  },
  {
   "cell_type": "code",
   "execution_count": 62,
   "metadata": {},
   "outputs": [
    {
     "name": "stdout",
     "output_type": "stream",
     "text": [
      "logs directory is : /Users/davis/progs/ccivm/logs\n"
     ]
    }
   ],
   "source": [
    "logs_path = os.path.join(root_path,\"logs\")\n",
    "print(\"logs directory is : \" + logs_path)"
   ]
  },
  {
   "cell_type": "code",
   "execution_count": 63,
   "metadata": {},
   "outputs": [],
   "source": [
    "LOG_DIR_NAME = logs_path\n",
    "os.environ['LOG_DIR_NAME'] = LOG_DIR_NAME"
   ]
  },
  {
   "cell_type": "code",
   "execution_count": 64,
   "metadata": {},
   "outputs": [
    {
     "name": "stdout",
     "output_type": "stream",
     "text": [
      "/Users/davis/progs/ccivm/logs\n"
     ]
    }
   ],
   "source": [
    "%%bash\n",
    "echo ${LOG_DIR_NAME}"
   ]
  },
  {
   "cell_type": "code",
   "execution_count": 65,
   "metadata": {},
   "outputs": [
    {
     "name": "stdout",
     "output_type": "stream",
     "text": [
      "usgs,site_no,date,tidal_high,tidal_low,precipitation_inches,lat,long\n",
      "GSVB,33670001,2019-03-08,-6.7913385826771648,-6.7257217847769031,,36.735303,-76.011602\n",
      "GSVB,33670001,2019-03-19,-6.8569553805774275,-6.758530183727034,,36.735303,-76.011602\n",
      "GSVB,33670001,2019-02-21,1.9356955380577427,2.1325459317585302,,36.735303,-76.011602\n",
      "GSVB,33670001,2019-03-11,-6.66010498687664,-6.4304461942257216,,36.735303,-76.011602\n",
      "GSVB,33670001,2019-04-04,1.9028871391076114,2.0669291338582676,,36.735303,-76.011602\n",
      "GSVB,33670001,2019-02-14,1.7716535433070866,1.9356955380577427,,36.735303,-76.011602\n",
      "GSVB,33670001,2019-04-14,2.2309711286089238,2.39501312335958,,36.735303,-76.011602\n",
      "GSVB,33670001,2019-02-24,2.65748031496063,2.9527559055118111,,36.735303,-76.011602\n",
      "GSVB,33670001,2019-01-12,2.2965879265091864,2.39501312335958,,36.735303,-76.011602\n"
     ]
    }
   ],
   "source": [
    "%%bash\n",
    "head ${CSV_FILE_NAME}"
   ]
  },
  {
   "cell_type": "code",
   "execution_count": 66,
   "metadata": {},
   "outputs": [
    {
     "name": "stdout",
     "output_type": "stream",
     "text": [
      "    9876 ../data/usgs_gsvb_v2.csv\n"
     ]
    }
   ],
   "source": [
    "%%bash\n",
    "# this csv file has 9875 lines corresponding to records (plus one header row)\n",
    "wc -l ${CSV_FILE_NAME}"
   ]
  },
  {
   "cell_type": "markdown",
   "metadata": {},
   "source": [
    "# Use generic python to read data into pandas dataframe"
   ]
  },
  {
   "cell_type": "markdown",
   "metadata": {},
   "source": [
    "## In case of nans, \n",
    "In order to add default values for NA data, use the converters helper functions\n",
    "\n",
    "## In case of missing data, \n",
    "In order to add default values for missing data use average value for column/feature average.  Averages were calculated seperately."
   ]
  },
  {
   "cell_type": "code",
   "execution_count": 67,
   "metadata": {},
   "outputs": [],
   "source": [
    "# Create a function to look for nans in the dataframe\n",
    "# call via nans(dataset)\n",
    "nans = lambda df: df[df.isnull().any(axis=1)]"
   ]
  },
  {
   "cell_type": "code",
   "execution_count": 68,
   "metadata": {},
   "outputs": [],
   "source": [
    "# Anytime there is missing data for high tide column, use the default value of 1.2\n",
    "def default_tidal_high(cell_value):\n",
    "    # print(type(cell_value))\n",
    "    # print(\"value is {}\".format(cell_value))\n",
    "    \n",
    "    # Input cell values are strings\n",
    "    # The blanks for missing values are litteral blanks\n",
    "    try:\n",
    "        ret_value = float(cell_value)\n",
    "        return ret_value\n",
    "    except:\n",
    "        # Average of available data\n",
    "        return float(1.2)\n",
    "        \n",
    "    return cell_value       "
   ]
  },
  {
   "cell_type": "code",
   "execution_count": 69,
   "metadata": {},
   "outputs": [],
   "source": [
    "def default_tidal_low(cell_value):\n",
    "    # print(type(cell_value))\n",
    "    # print(\"value is {}\".format(cell_value))\n",
    "    \n",
    "    # Input cell values are strings\n",
    "    # The blanks for missing values are litteral blanks\n",
    "    try:\n",
    "        ret_value = float(cell_value)\n",
    "        return ret_value\n",
    "    except:\n",
    "        # Average of available data\n",
    "        return float(-0.89)\n",
    "        \n",
    "    return cell_value       "
   ]
  },
  {
   "cell_type": "code",
   "execution_count": 70,
   "metadata": {},
   "outputs": [],
   "source": [
    "def default_precipitation(cell_value):\n",
    "    # print(type(cell_value))\n",
    "    # print(\"value is {}\".format(cell_value))\n",
    "    \n",
    "    # Input cell values are strings\n",
    "    # The blanks for missing values are litteral blanks\n",
    "    try:\n",
    "        ret_value = float(cell_value)\n",
    "        return ret_value\n",
    "    except:\n",
    "        # the average rainfall divided by 365.\n",
    "        return float(0.117)\n",
    "        \n",
    "    return cell_value       "
   ]
  },
  {
   "cell_type": "code",
   "execution_count": 71,
   "metadata": {},
   "outputs": [],
   "source": [
    "raw_dataset = pd.read_csv(CSV_FILE_NAME, \n",
    "                          header=0,\n",
    "                          parse_dates=[2],\n",
    "                          converters={'precipitation_inches':default_precipitation, \n",
    "                                      'tidal_high':default_tidal_high,\n",
    "                                      'tidal_low': default_tidal_low},\n",
    "                          sep=\",\")\n",
    "\n",
    "dataset = raw_dataset.copy()"
   ]
  },
  {
   "cell_type": "markdown",
   "metadata": {},
   "source": [
    "## NaNs safety check\n",
    "\n",
    "If still missing or NaNs exist, just drop them.  However, by this point none should exist."
   ]
  },
  {
   "cell_type": "code",
   "execution_count": 72,
   "metadata": {},
   "outputs": [
    {
     "data": {
      "text/html": [
       "<div>\n",
       "<style scoped>\n",
       "    .dataframe tbody tr th:only-of-type {\n",
       "        vertical-align: middle;\n",
       "    }\n",
       "\n",
       "    .dataframe tbody tr th {\n",
       "        vertical-align: top;\n",
       "    }\n",
       "\n",
       "    .dataframe thead th {\n",
       "        text-align: right;\n",
       "    }\n",
       "</style>\n",
       "<table border=\"1\" class=\"dataframe\">\n",
       "  <thead>\n",
       "    <tr style=\"text-align: right;\">\n",
       "      <th></th>\n",
       "      <th>usgs</th>\n",
       "      <th>site_no</th>\n",
       "      <th>date</th>\n",
       "      <th>tidal_high</th>\n",
       "      <th>tidal_low</th>\n",
       "      <th>precipitation_inches</th>\n",
       "      <th>lat</th>\n",
       "      <th>long</th>\n",
       "    </tr>\n",
       "  </thead>\n",
       "  <tbody>\n",
       "  </tbody>\n",
       "</table>\n",
       "</div>"
      ],
      "text/plain": [
       "Empty DataFrame\n",
       "Columns: [usgs, site_no, date, tidal_high, tidal_low, precipitation_inches, lat, long]\n",
       "Index: []"
      ]
     },
     "execution_count": 72,
     "metadata": {},
     "output_type": "execute_result"
    }
   ],
   "source": [
    "# This should show an empty set\n",
    "nans(dataset)"
   ]
  },
  {
   "cell_type": "code",
   "execution_count": 73,
   "metadata": {},
   "outputs": [
    {
     "data": {
      "text/html": [
       "<div>\n",
       "<style scoped>\n",
       "    .dataframe tbody tr th:only-of-type {\n",
       "        vertical-align: middle;\n",
       "    }\n",
       "\n",
       "    .dataframe tbody tr th {\n",
       "        vertical-align: top;\n",
       "    }\n",
       "\n",
       "    .dataframe thead th {\n",
       "        text-align: right;\n",
       "    }\n",
       "</style>\n",
       "<table border=\"1\" class=\"dataframe\">\n",
       "  <thead>\n",
       "    <tr style=\"text-align: right;\">\n",
       "      <th></th>\n",
       "      <th>usgs</th>\n",
       "      <th>site_no</th>\n",
       "      <th>date</th>\n",
       "      <th>tidal_high</th>\n",
       "      <th>tidal_low</th>\n",
       "      <th>precipitation_inches</th>\n",
       "      <th>lat</th>\n",
       "      <th>long</th>\n",
       "    </tr>\n",
       "  </thead>\n",
       "  <tbody>\n",
       "  </tbody>\n",
       "</table>\n",
       "</div>"
      ],
      "text/plain": [
       "Empty DataFrame\n",
       "Columns: [usgs, site_no, date, tidal_high, tidal_low, precipitation_inches, lat, long]\n",
       "Index: []"
      ]
     },
     "execution_count": 73,
     "metadata": {},
     "output_type": "execute_result"
    }
   ],
   "source": [
    "dataset.dropna(inplace=True)\n",
    "nans(dataset)"
   ]
  },
  {
   "cell_type": "code",
   "execution_count": 74,
   "metadata": {},
   "outputs": [
    {
     "data": {
      "text/plain": [
       "(9875, 8)"
      ]
     },
     "execution_count": 74,
     "metadata": {},
     "output_type": "execute_result"
    }
   ],
   "source": [
    "dataset.shape\n",
    "#dataset.head()"
   ]
  },
  {
   "cell_type": "markdown",
   "metadata": {},
   "source": [
    "## column/feature cleanup\n",
    "\n",
    "The columns for source of data, USGS vs GS is not needed.  We only care about water levels, not the source of the sensor reading.  Likewise, the site number column is unneeded.  The tidal_low is not of particlar interest since we are focusing on high water mark and not low mark.  The original greenstream data did not have a low tidal level anyway.  \n",
    "\n",
    "The result is that a tidal high column and a regular water level from a Greenstream level mark have already been merged/pitch matched."
   ]
  },
  {
   "cell_type": "code",
   "execution_count": 75,
   "metadata": {},
   "outputs": [
    {
     "data": {
      "text/html": [
       "<div>\n",
       "<style scoped>\n",
       "    .dataframe tbody tr th:only-of-type {\n",
       "        vertical-align: middle;\n",
       "    }\n",
       "\n",
       "    .dataframe tbody tr th {\n",
       "        vertical-align: top;\n",
       "    }\n",
       "\n",
       "    .dataframe thead th {\n",
       "        text-align: right;\n",
       "    }\n",
       "</style>\n",
       "<table border=\"1\" class=\"dataframe\">\n",
       "  <thead>\n",
       "    <tr style=\"text-align: right;\">\n",
       "      <th></th>\n",
       "      <th>date</th>\n",
       "      <th>tidal_high</th>\n",
       "      <th>precipitation_inches</th>\n",
       "      <th>lat</th>\n",
       "      <th>long</th>\n",
       "    </tr>\n",
       "  </thead>\n",
       "  <tbody>\n",
       "    <tr>\n",
       "      <th>0</th>\n",
       "      <td>2019-03-08</td>\n",
       "      <td>-6.791339</td>\n",
       "      <td>0.117</td>\n",
       "      <td>36.735303</td>\n",
       "      <td>-76.011602</td>\n",
       "    </tr>\n",
       "    <tr>\n",
       "      <th>1</th>\n",
       "      <td>2019-03-19</td>\n",
       "      <td>-6.856955</td>\n",
       "      <td>0.117</td>\n",
       "      <td>36.735303</td>\n",
       "      <td>-76.011602</td>\n",
       "    </tr>\n",
       "    <tr>\n",
       "      <th>2</th>\n",
       "      <td>2019-02-21</td>\n",
       "      <td>1.935696</td>\n",
       "      <td>0.117</td>\n",
       "      <td>36.735303</td>\n",
       "      <td>-76.011602</td>\n",
       "    </tr>\n",
       "    <tr>\n",
       "      <th>3</th>\n",
       "      <td>2019-03-11</td>\n",
       "      <td>-6.660105</td>\n",
       "      <td>0.117</td>\n",
       "      <td>36.735303</td>\n",
       "      <td>-76.011602</td>\n",
       "    </tr>\n",
       "    <tr>\n",
       "      <th>4</th>\n",
       "      <td>2019-04-04</td>\n",
       "      <td>1.902887</td>\n",
       "      <td>0.117</td>\n",
       "      <td>36.735303</td>\n",
       "      <td>-76.011602</td>\n",
       "    </tr>\n",
       "  </tbody>\n",
       "</table>\n",
       "</div>"
      ],
      "text/plain": [
       "        date  tidal_high  precipitation_inches        lat       long\n",
       "0 2019-03-08   -6.791339                 0.117  36.735303 -76.011602\n",
       "1 2019-03-19   -6.856955                 0.117  36.735303 -76.011602\n",
       "2 2019-02-21    1.935696                 0.117  36.735303 -76.011602\n",
       "3 2019-03-11   -6.660105                 0.117  36.735303 -76.011602\n",
       "4 2019-04-04    1.902887                 0.117  36.735303 -76.011602"
      ]
     },
     "execution_count": 75,
     "metadata": {},
     "output_type": "execute_result"
    }
   ],
   "source": [
    "# drop any columns which we will not use\n",
    "dataset.drop(['usgs','tidal_low','site_no'], axis=1, inplace=True)\n",
    "dataset.head()"
   ]
  },
  {
   "cell_type": "code",
   "execution_count": null,
   "metadata": {},
   "outputs": [],
   "source": []
  },
  {
   "cell_type": "markdown",
   "metadata": {},
   "source": [
    "# Create new columns for year, month, day from the date column"
   ]
  },
  {
   "cell_type": "code",
   "execution_count": 76,
   "metadata": {},
   "outputs": [],
   "source": [
    "def create_ymd_cols(df, column):\n",
    "    df[column + \"_year\"] = df[column].apply(lambda x: x.year)\n",
    "    df[column + \"_month\"] = df[column].apply(lambda x: x.month)\n",
    "    df[column + \"_day\"] = df[column].apply(lambda x: x.day)\n",
    "    \n",
    "create_ymd_cols(dataset, 'date')"
   ]
  },
  {
   "cell_type": "code",
   "execution_count": 77,
   "metadata": {},
   "outputs": [
    {
     "data": {
      "text/html": [
       "<div>\n",
       "<style scoped>\n",
       "    .dataframe tbody tr th:only-of-type {\n",
       "        vertical-align: middle;\n",
       "    }\n",
       "\n",
       "    .dataframe tbody tr th {\n",
       "        vertical-align: top;\n",
       "    }\n",
       "\n",
       "    .dataframe thead th {\n",
       "        text-align: right;\n",
       "    }\n",
       "</style>\n",
       "<table border=\"1\" class=\"dataframe\">\n",
       "  <thead>\n",
       "    <tr style=\"text-align: right;\">\n",
       "      <th></th>\n",
       "      <th>date</th>\n",
       "      <th>tidal_high</th>\n",
       "      <th>precipitation_inches</th>\n",
       "      <th>lat</th>\n",
       "      <th>long</th>\n",
       "      <th>date_year</th>\n",
       "      <th>date_month</th>\n",
       "      <th>date_day</th>\n",
       "    </tr>\n",
       "  </thead>\n",
       "  <tbody>\n",
       "    <tr>\n",
       "      <th>0</th>\n",
       "      <td>2019-03-08</td>\n",
       "      <td>-6.791339</td>\n",
       "      <td>0.117</td>\n",
       "      <td>36.735303</td>\n",
       "      <td>-76.011602</td>\n",
       "      <td>2019</td>\n",
       "      <td>3</td>\n",
       "      <td>8</td>\n",
       "    </tr>\n",
       "    <tr>\n",
       "      <th>1</th>\n",
       "      <td>2019-03-19</td>\n",
       "      <td>-6.856955</td>\n",
       "      <td>0.117</td>\n",
       "      <td>36.735303</td>\n",
       "      <td>-76.011602</td>\n",
       "      <td>2019</td>\n",
       "      <td>3</td>\n",
       "      <td>19</td>\n",
       "    </tr>\n",
       "    <tr>\n",
       "      <th>2</th>\n",
       "      <td>2019-02-21</td>\n",
       "      <td>1.935696</td>\n",
       "      <td>0.117</td>\n",
       "      <td>36.735303</td>\n",
       "      <td>-76.011602</td>\n",
       "      <td>2019</td>\n",
       "      <td>2</td>\n",
       "      <td>21</td>\n",
       "    </tr>\n",
       "    <tr>\n",
       "      <th>3</th>\n",
       "      <td>2019-03-11</td>\n",
       "      <td>-6.660105</td>\n",
       "      <td>0.117</td>\n",
       "      <td>36.735303</td>\n",
       "      <td>-76.011602</td>\n",
       "      <td>2019</td>\n",
       "      <td>3</td>\n",
       "      <td>11</td>\n",
       "    </tr>\n",
       "    <tr>\n",
       "      <th>4</th>\n",
       "      <td>2019-04-04</td>\n",
       "      <td>1.902887</td>\n",
       "      <td>0.117</td>\n",
       "      <td>36.735303</td>\n",
       "      <td>-76.011602</td>\n",
       "      <td>2019</td>\n",
       "      <td>4</td>\n",
       "      <td>4</td>\n",
       "    </tr>\n",
       "  </tbody>\n",
       "</table>\n",
       "</div>"
      ],
      "text/plain": [
       "        date  tidal_high  precipitation_inches        lat       long  \\\n",
       "0 2019-03-08   -6.791339                 0.117  36.735303 -76.011602   \n",
       "1 2019-03-19   -6.856955                 0.117  36.735303 -76.011602   \n",
       "2 2019-02-21    1.935696                 0.117  36.735303 -76.011602   \n",
       "3 2019-03-11   -6.660105                 0.117  36.735303 -76.011602   \n",
       "4 2019-04-04    1.902887                 0.117  36.735303 -76.011602   \n",
       "\n",
       "   date_year  date_month  date_day  \n",
       "0       2019           3         8  \n",
       "1       2019           3        19  \n",
       "2       2019           2        21  \n",
       "3       2019           3        11  \n",
       "4       2019           4         4  "
      ]
     },
     "execution_count": 77,
     "metadata": {},
     "output_type": "execute_result"
    }
   ],
   "source": [
    "dataset.head()"
   ]
  },
  {
   "cell_type": "code",
   "execution_count": 78,
   "metadata": {},
   "outputs": [
    {
     "data": {
      "text/html": [
       "<div>\n",
       "<style scoped>\n",
       "    .dataframe tbody tr th:only-of-type {\n",
       "        vertical-align: middle;\n",
       "    }\n",
       "\n",
       "    .dataframe tbody tr th {\n",
       "        vertical-align: top;\n",
       "    }\n",
       "\n",
       "    .dataframe thead th {\n",
       "        text-align: right;\n",
       "    }\n",
       "</style>\n",
       "<table border=\"1\" class=\"dataframe\">\n",
       "  <thead>\n",
       "    <tr style=\"text-align: right;\">\n",
       "      <th></th>\n",
       "      <th>tidal_high</th>\n",
       "      <th>precipitation_inches</th>\n",
       "      <th>lat</th>\n",
       "      <th>long</th>\n",
       "      <th>date_year</th>\n",
       "      <th>date_month</th>\n",
       "      <th>date_day</th>\n",
       "    </tr>\n",
       "  </thead>\n",
       "  <tbody>\n",
       "    <tr>\n",
       "      <th>0</th>\n",
       "      <td>-6.791339</td>\n",
       "      <td>0.117</td>\n",
       "      <td>36.735303</td>\n",
       "      <td>-76.011602</td>\n",
       "      <td>2019</td>\n",
       "      <td>3</td>\n",
       "      <td>8</td>\n",
       "    </tr>\n",
       "    <tr>\n",
       "      <th>1</th>\n",
       "      <td>-6.856955</td>\n",
       "      <td>0.117</td>\n",
       "      <td>36.735303</td>\n",
       "      <td>-76.011602</td>\n",
       "      <td>2019</td>\n",
       "      <td>3</td>\n",
       "      <td>19</td>\n",
       "    </tr>\n",
       "    <tr>\n",
       "      <th>2</th>\n",
       "      <td>1.935696</td>\n",
       "      <td>0.117</td>\n",
       "      <td>36.735303</td>\n",
       "      <td>-76.011602</td>\n",
       "      <td>2019</td>\n",
       "      <td>2</td>\n",
       "      <td>21</td>\n",
       "    </tr>\n",
       "    <tr>\n",
       "      <th>3</th>\n",
       "      <td>-6.660105</td>\n",
       "      <td>0.117</td>\n",
       "      <td>36.735303</td>\n",
       "      <td>-76.011602</td>\n",
       "      <td>2019</td>\n",
       "      <td>3</td>\n",
       "      <td>11</td>\n",
       "    </tr>\n",
       "    <tr>\n",
       "      <th>4</th>\n",
       "      <td>1.902887</td>\n",
       "      <td>0.117</td>\n",
       "      <td>36.735303</td>\n",
       "      <td>-76.011602</td>\n",
       "      <td>2019</td>\n",
       "      <td>4</td>\n",
       "      <td>4</td>\n",
       "    </tr>\n",
       "  </tbody>\n",
       "</table>\n",
       "</div>"
      ],
      "text/plain": [
       "   tidal_high  precipitation_inches        lat       long  date_year  \\\n",
       "0   -6.791339                 0.117  36.735303 -76.011602       2019   \n",
       "1   -6.856955                 0.117  36.735303 -76.011602       2019   \n",
       "2    1.935696                 0.117  36.735303 -76.011602       2019   \n",
       "3   -6.660105                 0.117  36.735303 -76.011602       2019   \n",
       "4    1.902887                 0.117  36.735303 -76.011602       2019   \n",
       "\n",
       "   date_month  date_day  \n",
       "0           3         8  \n",
       "1           3        19  \n",
       "2           2        21  \n",
       "3           3        11  \n",
       "4           4         4  "
      ]
     },
     "execution_count": 78,
     "metadata": {},
     "output_type": "execute_result"
    }
   ],
   "source": [
    "# remove the date column\n",
    "dataset.pop('date')\n",
    "dataset.head()"
   ]
  },
  {
   "cell_type": "code",
   "execution_count": null,
   "metadata": {},
   "outputs": [],
   "source": []
  },
  {
   "cell_type": "code",
   "execution_count": null,
   "metadata": {},
   "outputs": [],
   "source": []
  },
  {
   "cell_type": "code",
   "execution_count": null,
   "metadata": {},
   "outputs": [],
   "source": []
  },
  {
   "cell_type": "code",
   "execution_count": 79,
   "metadata": {},
   "outputs": [],
   "source": [
    "train_ds = dataset.sample(frac=0.7,random_state=3367)\n",
    "leftover_ds = dataset.drop(train_ds.index)\n",
    "test_ds = leftover_ds.sample(frac=0.5, random_state=3367)\n",
    "valid_ds = leftover_ds.drop(test_ds.index)"
   ]
  },
  {
   "cell_type": "code",
   "execution_count": 84,
   "metadata": {},
   "outputs": [
    {
     "ename": "KeyError",
     "evalue": "'tidal_high'",
     "output_type": "error",
     "traceback": [
      "\u001b[0;31m---------------------------------------------------------------------------\u001b[0m",
      "\u001b[0;31mKeyError\u001b[0m                                  Traceback (most recent call last)",
      "File \u001b[0;32m~/progs/ccivm/.venv/lib/python3.11/site-packages/pandas/core/indexes/base.py:3790\u001b[0m, in \u001b[0;36mIndex.get_loc\u001b[0;34m(self, key)\u001b[0m\n\u001b[1;32m   3789\u001b[0m \u001b[39mtry\u001b[39;00m:\n\u001b[0;32m-> 3790\u001b[0m     \u001b[39mreturn\u001b[39;00m \u001b[39mself\u001b[39;49m\u001b[39m.\u001b[39;49m_engine\u001b[39m.\u001b[39;49mget_loc(casted_key)\n\u001b[1;32m   3791\u001b[0m \u001b[39mexcept\u001b[39;00m \u001b[39mKeyError\u001b[39;00m \u001b[39mas\u001b[39;00m err:\n",
      "File \u001b[0;32mindex.pyx:152\u001b[0m, in \u001b[0;36mpandas._libs.index.IndexEngine.get_loc\u001b[0;34m()\u001b[0m\n",
      "File \u001b[0;32mindex.pyx:181\u001b[0m, in \u001b[0;36mpandas._libs.index.IndexEngine.get_loc\u001b[0;34m()\u001b[0m\n",
      "File \u001b[0;32mpandas/_libs/hashtable_class_helper.pxi:7080\u001b[0m, in \u001b[0;36mpandas._libs.hashtable.PyObjectHashTable.get_item\u001b[0;34m()\u001b[0m\n",
      "File \u001b[0;32mpandas/_libs/hashtable_class_helper.pxi:7088\u001b[0m, in \u001b[0;36mpandas._libs.hashtable.PyObjectHashTable.get_item\u001b[0;34m()\u001b[0m\n",
      "\u001b[0;31mKeyError\u001b[0m: 'tidal_high'",
      "\nThe above exception was the direct cause of the following exception:\n",
      "\u001b[0;31mKeyError\u001b[0m                                  Traceback (most recent call last)",
      "\u001b[1;32m/Users/davis/progs/ccivm/src/clean_data.ipynb Cell 34\u001b[0m line \u001b[0;36m7\n\u001b[1;32m      <a href='vscode-notebook-cell:/Users/davis/progs/ccivm/src/clean_data.ipynb#X46sZmlsZQ%3D%3D?line=0'>1</a>\u001b[0m \u001b[39m# Create seperate series/dataframe? for labels\u001b[39;00m\n\u001b[1;32m      <a href='vscode-notebook-cell:/Users/davis/progs/ccivm/src/clean_data.ipynb#X46sZmlsZQ%3D%3D?line=1'>2</a>\u001b[0m \u001b[39m# Remove the label from the dataframes.\u001b[39;00m\n\u001b[1;32m      <a href='vscode-notebook-cell:/Users/davis/progs/ccivm/src/clean_data.ipynb#X46sZmlsZQ%3D%3D?line=2'>3</a>\u001b[0m \n\u001b[1;32m      <a href='vscode-notebook-cell:/Users/davis/progs/ccivm/src/clean_data.ipynb#X46sZmlsZQ%3D%3D?line=3'>4</a>\u001b[0m \u001b[39m# TODO: Why drop this?\u001b[39;00m\n\u001b[1;32m      <a href='vscode-notebook-cell:/Users/davis/progs/ccivm/src/clean_data.ipynb#X46sZmlsZQ%3D%3D?line=4'>5</a>\u001b[0m \u001b[39m# TODO: also the normalized data should be 0-1. why do we have \u001b[39;00m\n\u001b[1;32m      <a href='vscode-notebook-cell:/Users/davis/progs/ccivm/src/clean_data.ipynb#X46sZmlsZQ%3D%3D?line=5'>6</a>\u001b[0m \u001b[39m# 1.0+ values.\u001b[39;00m\n\u001b[0;32m----> <a href='vscode-notebook-cell:/Users/davis/progs/ccivm/src/clean_data.ipynb#X46sZmlsZQ%3D%3D?line=6'>7</a>\u001b[0m train_labels \u001b[39m=\u001b[39m train_ds\u001b[39m.\u001b[39;49mpop(\u001b[39m'\u001b[39;49m\u001b[39mtidal_high\u001b[39;49m\u001b[39m'\u001b[39;49m)\n\u001b[1;32m      <a href='vscode-notebook-cell:/Users/davis/progs/ccivm/src/clean_data.ipynb#X46sZmlsZQ%3D%3D?line=7'>8</a>\u001b[0m test_labels \u001b[39m=\u001b[39m test_ds\u001b[39m.\u001b[39mpop(\u001b[39m'\u001b[39m\u001b[39mtidal_high\u001b[39m\u001b[39m'\u001b[39m)\n\u001b[1;32m      <a href='vscode-notebook-cell:/Users/davis/progs/ccivm/src/clean_data.ipynb#X46sZmlsZQ%3D%3D?line=8'>9</a>\u001b[0m valid_labels \u001b[39m=\u001b[39m valid_ds\u001b[39m.\u001b[39mpop(\u001b[39m'\u001b[39m\u001b[39mtidal_high\u001b[39m\u001b[39m'\u001b[39m)\n",
      "File \u001b[0;32m~/progs/ccivm/.venv/lib/python3.11/site-packages/pandas/core/frame.py:5573\u001b[0m, in \u001b[0;36mDataFrame.pop\u001b[0;34m(self, item)\u001b[0m\n\u001b[1;32m   5532\u001b[0m \u001b[39mdef\u001b[39;00m \u001b[39mpop\u001b[39m(\u001b[39mself\u001b[39m, item: Hashable) \u001b[39m-\u001b[39m\u001b[39m>\u001b[39m Series:\n\u001b[1;32m   5533\u001b[0m \u001b[39m    \u001b[39m\u001b[39m\"\"\"\u001b[39;00m\n\u001b[1;32m   5534\u001b[0m \u001b[39m    Return item and drop from frame. Raise KeyError if not found.\u001b[39;00m\n\u001b[1;32m   5535\u001b[0m \n\u001b[0;32m   (...)\u001b[0m\n\u001b[1;32m   5571\u001b[0m \u001b[39m    3  monkey        NaN\u001b[39;00m\n\u001b[1;32m   5572\u001b[0m \u001b[39m    \"\"\"\u001b[39;00m\n\u001b[0;32m-> 5573\u001b[0m     \u001b[39mreturn\u001b[39;00m \u001b[39msuper\u001b[39;49m()\u001b[39m.\u001b[39;49mpop(item\u001b[39m=\u001b[39;49mitem)\n",
      "File \u001b[0;32m~/progs/ccivm/.venv/lib/python3.11/site-packages/pandas/core/generic.py:901\u001b[0m, in \u001b[0;36mNDFrame.pop\u001b[0;34m(self, item)\u001b[0m\n\u001b[1;32m    900\u001b[0m \u001b[39mdef\u001b[39;00m \u001b[39mpop\u001b[39m(\u001b[39mself\u001b[39m, item: Hashable) \u001b[39m-\u001b[39m\u001b[39m>\u001b[39m Series \u001b[39m|\u001b[39m Any:\n\u001b[0;32m--> 901\u001b[0m     result \u001b[39m=\u001b[39m \u001b[39mself\u001b[39;49m[item]\n\u001b[1;32m    902\u001b[0m     \u001b[39mdel\u001b[39;00m \u001b[39mself\u001b[39m[item]\n\u001b[1;32m    904\u001b[0m     \u001b[39mreturn\u001b[39;00m result\n",
      "File \u001b[0;32m~/progs/ccivm/.venv/lib/python3.11/site-packages/pandas/core/frame.py:3896\u001b[0m, in \u001b[0;36mDataFrame.__getitem__\u001b[0;34m(self, key)\u001b[0m\n\u001b[1;32m   3894\u001b[0m \u001b[39mif\u001b[39;00m \u001b[39mself\u001b[39m\u001b[39m.\u001b[39mcolumns\u001b[39m.\u001b[39mnlevels \u001b[39m>\u001b[39m \u001b[39m1\u001b[39m:\n\u001b[1;32m   3895\u001b[0m     \u001b[39mreturn\u001b[39;00m \u001b[39mself\u001b[39m\u001b[39m.\u001b[39m_getitem_multilevel(key)\n\u001b[0;32m-> 3896\u001b[0m indexer \u001b[39m=\u001b[39m \u001b[39mself\u001b[39;49m\u001b[39m.\u001b[39;49mcolumns\u001b[39m.\u001b[39;49mget_loc(key)\n\u001b[1;32m   3897\u001b[0m \u001b[39mif\u001b[39;00m is_integer(indexer):\n\u001b[1;32m   3898\u001b[0m     indexer \u001b[39m=\u001b[39m [indexer]\n",
      "File \u001b[0;32m~/progs/ccivm/.venv/lib/python3.11/site-packages/pandas/core/indexes/base.py:3797\u001b[0m, in \u001b[0;36mIndex.get_loc\u001b[0;34m(self, key)\u001b[0m\n\u001b[1;32m   3792\u001b[0m     \u001b[39mif\u001b[39;00m \u001b[39misinstance\u001b[39m(casted_key, \u001b[39mslice\u001b[39m) \u001b[39mor\u001b[39;00m (\n\u001b[1;32m   3793\u001b[0m         \u001b[39misinstance\u001b[39m(casted_key, abc\u001b[39m.\u001b[39mIterable)\n\u001b[1;32m   3794\u001b[0m         \u001b[39mand\u001b[39;00m \u001b[39many\u001b[39m(\u001b[39misinstance\u001b[39m(x, \u001b[39mslice\u001b[39m) \u001b[39mfor\u001b[39;00m x \u001b[39min\u001b[39;00m casted_key)\n\u001b[1;32m   3795\u001b[0m     ):\n\u001b[1;32m   3796\u001b[0m         \u001b[39mraise\u001b[39;00m InvalidIndexError(key)\n\u001b[0;32m-> 3797\u001b[0m     \u001b[39mraise\u001b[39;00m \u001b[39mKeyError\u001b[39;00m(key) \u001b[39mfrom\u001b[39;00m \u001b[39merr\u001b[39;00m\n\u001b[1;32m   3798\u001b[0m \u001b[39mexcept\u001b[39;00m \u001b[39mTypeError\u001b[39;00m:\n\u001b[1;32m   3799\u001b[0m     \u001b[39m# If we have a listlike key, _check_indexing_error will raise\u001b[39;00m\n\u001b[1;32m   3800\u001b[0m     \u001b[39m#  InvalidIndexError. Otherwise we fall through and re-raise\u001b[39;00m\n\u001b[1;32m   3801\u001b[0m     \u001b[39m#  the TypeError.\u001b[39;00m\n\u001b[1;32m   3802\u001b[0m     \u001b[39mself\u001b[39m\u001b[39m.\u001b[39m_check_indexing_error(key)\n",
      "\u001b[0;31mKeyError\u001b[0m: 'tidal_high'"
     ]
    }
   ],
   "source": [
    "# Create seperate series/dataframe? for labels\n",
    "# Remove the label from the dataframes.\n",
    "\n",
    "# TODO: Why drop this?\n",
    "# TODO: also the normalized data should be 0-1. why do we have \n",
    "# 1.0+ values.\n",
    "train_labels = train_ds.pop('tidal_high')\n",
    "test_labels = test_ds.pop('tidal_high')\n",
    "valid_labels = valid_ds.pop('tidal_high')"
   ]
  },
  {
   "cell_type": "markdown",
   "metadata": {},
   "source": [
    "# Normalize the data"
   ]
  },
  {
   "cell_type": "code",
   "execution_count": 85,
   "metadata": {},
   "outputs": [],
   "source": [
    "# use only the training data to get mean and std \n",
    "# which we can use to norm all datasets\n",
    "train_stats_df = train_ds.copy()\n",
    "train_stats = train_stats_df.describe().transpose()\n"
   ]
  },
  {
   "cell_type": "code",
   "execution_count": 86,
   "metadata": {},
   "outputs": [],
   "source": [
    "def norm(a_df):\n",
    "    # Do the norm operation\n",
    "    normed_df = (a_df - train_stats['mean']) / train_stats['std']\n",
    "    return normed_df\n",
    "\n",
    "normed_train_ds = norm(train_ds)\n",
    "normed_test_ds = norm(test_ds)\n",
    "normed_valid_ds = norm(valid_ds)"
   ]
  },
  {
   "cell_type": "code",
   "execution_count": 87,
   "metadata": {},
   "outputs": [
    {
     "data": {
      "text/html": [
       "<div>\n",
       "<style scoped>\n",
       "    .dataframe tbody tr th:only-of-type {\n",
       "        vertical-align: middle;\n",
       "    }\n",
       "\n",
       "    .dataframe tbody tr th {\n",
       "        vertical-align: top;\n",
       "    }\n",
       "\n",
       "    .dataframe thead th {\n",
       "        text-align: right;\n",
       "    }\n",
       "</style>\n",
       "<table border=\"1\" class=\"dataframe\">\n",
       "  <thead>\n",
       "    <tr style=\"text-align: right;\">\n",
       "      <th></th>\n",
       "      <th>precipitation_inches</th>\n",
       "      <th>lat</th>\n",
       "      <th>long</th>\n",
       "      <th>date_year</th>\n",
       "      <th>date_month</th>\n",
       "      <th>date_day</th>\n",
       "    </tr>\n",
       "  </thead>\n",
       "  <tbody>\n",
       "    <tr>\n",
       "      <th>19</th>\n",
       "      <td>-0.031107</td>\n",
       "      <td>-0.869075</td>\n",
       "      <td>0.677893</td>\n",
       "      <td>1.540909</td>\n",
       "      <td>-1.467756</td>\n",
       "      <td>1.611953</td>\n",
       "    </tr>\n",
       "    <tr>\n",
       "      <th>21</th>\n",
       "      <td>-0.031107</td>\n",
       "      <td>-0.869075</td>\n",
       "      <td>0.677893</td>\n",
       "      <td>1.540909</td>\n",
       "      <td>-1.467756</td>\n",
       "      <td>-1.330050</td>\n",
       "    </tr>\n",
       "    <tr>\n",
       "      <th>24</th>\n",
       "      <td>-0.031107</td>\n",
       "      <td>-0.869075</td>\n",
       "      <td>0.677893</td>\n",
       "      <td>1.540909</td>\n",
       "      <td>-0.900735</td>\n",
       "      <td>-1.330050</td>\n",
       "    </tr>\n",
       "    <tr>\n",
       "      <th>25</th>\n",
       "      <td>-0.031107</td>\n",
       "      <td>-0.869075</td>\n",
       "      <td>0.677893</td>\n",
       "      <td>1.540909</td>\n",
       "      <td>-0.900735</td>\n",
       "      <td>0.480413</td>\n",
       "    </tr>\n",
       "    <tr>\n",
       "      <th>38</th>\n",
       "      <td>-0.031107</td>\n",
       "      <td>-0.869075</td>\n",
       "      <td>0.677893</td>\n",
       "      <td>1.540909</td>\n",
       "      <td>-1.467756</td>\n",
       "      <td>0.706721</td>\n",
       "    </tr>\n",
       "  </tbody>\n",
       "</table>\n",
       "</div>"
      ],
      "text/plain": [
       "    precipitation_inches       lat      long  date_year  date_month  date_day\n",
       "19             -0.031107 -0.869075  0.677893   1.540909   -1.467756  1.611953\n",
       "21             -0.031107 -0.869075  0.677893   1.540909   -1.467756 -1.330050\n",
       "24             -0.031107 -0.869075  0.677893   1.540909   -0.900735 -1.330050\n",
       "25             -0.031107 -0.869075  0.677893   1.540909   -0.900735  0.480413\n",
       "38             -0.031107 -0.869075  0.677893   1.540909   -1.467756  0.706721"
      ]
     },
     "execution_count": 87,
     "metadata": {},
     "output_type": "execute_result"
    }
   ],
   "source": [
    "#normed_train_ds\n",
    "normed_valid_ds.head()"
   ]
  },
  {
   "cell_type": "markdown",
   "metadata": {},
   "source": [
    "# write the normalized datasets to disk"
   ]
  },
  {
   "cell_type": "markdown",
   "metadata": {},
   "source": []
  }
 ],
 "metadata": {
  "kernelspec": {
   "display_name": "Python 3",
   "language": "python",
   "name": "python3"
  },
  "language_info": {
   "codemirror_mode": {
    "name": "ipython",
    "version": 3
   },
   "file_extension": ".py",
   "mimetype": "text/x-python",
   "name": "python",
   "nbconvert_exporter": "python",
   "pygments_lexer": "ipython3",
   "version": "3.11.3"
  }
 },
 "nbformat": 4,
 "nbformat_minor": 2
}
